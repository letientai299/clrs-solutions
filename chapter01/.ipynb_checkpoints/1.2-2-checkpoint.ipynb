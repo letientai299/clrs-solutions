{
 "cells": [
  {
   "cell_type": "markdown",
   "metadata": {},
   "source": [
    "**Ex**:\n",
    "\n",
    "Insertion sort ($8n^2$) vs merge sort ($64n.lg(n)$). For which $n$ does insertion sort beat merge sort?"
   ]
  },
  {
   "cell_type": "markdown",
   "metadata": {},
   "source": [
    "**Solution**\n",
    "\n",
    "We need to find $n$ that:\n",
    "\n",
    "$$\n",
    "8n^2 \\le 64n lg(n)\\\\\n",
    "\\Rightarrow n \\le 8lg(n)\n",
    "\\Rightarrow n \\le 44\n",
    "$$"
   ]
  },
  {
   "cell_type": "code",
   "execution_count": 11,
   "metadata": {},
   "outputs": [
    {
     "name": "stdout",
     "output_type": "stream",
     "text": [
      "44\n"
     ]
    }
   ],
   "source": [
    "# Code to find maximum value of n for the above inequality\n",
    "\n",
    "from math import log2\n",
    "\n",
    "n = 2 # can't start by 1 because lg(1) == 0\n",
    "while n <= 8*log2(n):\n",
    "    n+=1\n",
    "\n",
    "print(n)"
   ]
  }
 ],
 "metadata": {
  "kernelspec": {
   "display_name": "Python 3",
   "language": "python",
   "name": "python3"
  },
  "language_info": {
   "codemirror_mode": {
    "name": "ipython",
    "version": 3
   },
   "file_extension": ".py",
   "mimetype": "text/x-python",
   "name": "python",
   "nbconvert_exporter": "python",
   "pygments_lexer": "ipython3",
   "version": "3.5.3"
  }
 },
 "nbformat": 4,
 "nbformat_minor": 2
}
